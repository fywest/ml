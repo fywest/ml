{
 "cells": [
  {
   "cell_type": "code",
   "execution_count": null,
   "metadata": {},
   "outputs": [],
   "source": [
    "#挑战 使用 sklearn 生成 3 组测试数据，并绘制出散点图（横排拼接子图）。\n",
    "import numpy as np\n",
    "from sklearn import datasets\n",
    "from matplotlib import pyplot as plt\n",
    "%matplotlib inline\n",
    "\n",
    "### 代码开始 ### ((≈ 7-10 行代码))\n",
    "\n",
    "### 代码结束 ###"
   ]
  },
  {
   "cell_type": "code",
   "execution_count": null,
   "metadata": {},
   "outputs": [],
   "source": [
    "#挑战： 采用上述 8 个聚类方法分别在 moons, circles 和 blobs 上进行测试，并将聚类结果绘制成图。\n",
    "from sklearn import cluster\n",
    "\n",
    "### 代码开始 ### (> 10 行代码)\n",
    "\n",
    "### 代码结束 ###"
   ]
  },
  {
   "cell_type": "code",
   "execution_count": null,
   "metadata": {},
   "outputs": [],
   "source": [
    "def create_data(n):\n",
    "    \"\"\"\n",
    "    参数:\n",
    "    n -- 生成样本数量\n",
    "    返回:\n",
    "    blobs_data -- 样本数组\n",
    "    \"\"\"\n",
    "    blobs_data, _ = datasets.make_blobs(\n",
    "        n_samples=n,\n",
    "        n_features=2,\n",
    "        centers=2,\n",
    "        cluster_std=1.5,\n",
    "        random_state=10)\n",
    "    return blobs_data"
   ]
  },
  {
   "cell_type": "code",
   "execution_count": null,
   "metadata": {},
   "outputs": [],
   "source": [
    "#挑战： 使用 create_data(n) 生成不同规模的测试数据，并计算不同算法的聚类时间，且绘制对应的折线图。\n",
    "import time\n",
    "\n",
    "### 代码开始 ### (> 10 行代码)\n",
    "\n",
    "### 代码结束 ###"
   ]
  }
 ],
 "metadata": {
  "kernelspec": {
   "display_name": "Python 3",
   "language": "python",
   "name": "python3"
  },
  "language_info": {
   "codemirror_mode": {
    "name": "ipython",
    "version": 3
   },
   "file_extension": ".py",
   "mimetype": "text/x-python",
   "name": "python",
   "nbconvert_exporter": "python",
   "pygments_lexer": "ipython3",
   "version": "3.6.4"
  }
 },
 "nbformat": 4,
 "nbformat_minor": 2
}
