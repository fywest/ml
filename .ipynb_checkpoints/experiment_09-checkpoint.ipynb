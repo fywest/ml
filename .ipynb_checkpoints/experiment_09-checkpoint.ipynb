{
 "cells": [
  {
   "cell_type": "code",
   "execution_count": 1,
   "metadata": {},
   "outputs": [],
   "source": [
    "\"\"\"生成示例数据\n",
    "\"\"\"\n",
    "import numpy as np\n",
    "\n",
    "\n",
    "def create_data():\n",
    "    features = np.array(\n",
    "        [[2.88, 3.05], [3.1, 2.45], [3.05, 2.8], [2.9, 2.7], [2.75, 3.4],\n",
    "         [3.23, 2.9], [3.2, 3.75], [3.5, 2.9], [3.65, 3.6], [3.35, 3.3]])\n",
    "    labels = ['A', 'A', 'A', 'A', 'A', 'B', 'B', 'B', 'B', 'B']\n",
    "    return features, labels"
   ]
  },
  {
   "cell_type": "code",
   "execution_count": 2,
   "metadata": {},
   "outputs": [
    {
     "name": "stdout",
     "output_type": "stream",
     "text": [
      "features: \n",
      " [[2.88 3.05]\n",
      " [3.1  2.45]\n",
      " [3.05 2.8 ]\n",
      " [2.9  2.7 ]\n",
      " [2.75 3.4 ]\n",
      " [3.23 2.9 ]\n",
      " [3.2  3.75]\n",
      " [3.5  2.9 ]\n",
      " [3.65 3.6 ]\n",
      " [3.35 3.3 ]]\n",
      "labels: \n",
      " ['A', 'A', 'A', 'A', 'A', 'B', 'B', 'B', 'B', 'B']\n"
     ]
    }
   ],
   "source": [
    "\"\"\"打印示例数据\n",
    "\"\"\"\n",
    "features, labels = create_data()\n",
    "print('features: \\n', features)\n",
    "print('labels: \\n', labels)"
   ]
  },
  {
   "cell_type": "code",
   "execution_count": 3,
   "metadata": {},
   "outputs": [
    {
     "data": {
      "text/plain": [
       "<matplotlib.collections.PathCollection at 0x1bf5f81b748>"
      ]
     },
     "execution_count": 3,
     "metadata": {},
     "output_type": "execute_result"
    },
    {
     "data": {
      "image/png": "[encoded data removed]",
      "text/plain": [
       "<matplotlib.figure.Figure at 0x1bf5ead0240>"
      ]
     },
     "metadata": {},
     "output_type": "display_data"
    }
   ],
   "source": [
    "\"\"\"示例数据绘图\n",
    "\"\"\"\n",
    "from matplotlib import pyplot as plt\n",
    "%matplotlib inline\n",
    "\n",
    "plt.figure(figsize=(5, 5))\n",
    "plt.xlim((2.4, 3.8))\n",
    "plt.ylim((2.4, 3.8))\n",
    "x_feature = list(map(lambda x: x[0], features))  # 返回每个数据的x特征值\n",
    "y_feature = list(map(lambda y: y[1], features))\n",
    "plt.scatter(x_feature[:5], y_feature[:5], c=\"b\")  # 在画布上绘画出\"A\"类标签的数据点\n",
    "plt.scatter(x_feature[5:], y_feature[5:], c=\"g\")\n",
    "plt.scatter([3.18], [3.15], c=\"r\", marker=\"x\")  # 待测试点的坐标为 [3.1，3.2]"
   ]
  },
  {
   "cell_type": "code",
   "execution_count": 4,
   "metadata": {},
   "outputs": [
    {
     "name": "stdout",
     "output_type": "stream",
     "text": [
      "x: [3.1 3.2]\n",
      "y: [2.5 2.8]\n",
      "1.0000000000000004\n"
     ]
    }
   ],
   "source": [
    "\"\"\"曼哈顿距离计算\n",
    "\"\"\"\n",
    "import numpy as np\n",
    "\n",
    "\n",
    "def d_man(x, y):\n",
    "    d = np.sum(np.abs(x - y))\n",
    "    return d\n",
    "\n",
    "\n",
    "x = np.array([3.1, 3.2])\n",
    "print(\"x:\", x)\n",
    "y = np.array([2.5, 2.8])\n",
    "print(\"y:\", y)\n",
    "d_man = d_man(x, y)\n",
    "print(d_man)"
   ]
  },
  {
   "cell_type": "code",
   "execution_count": 5,
   "metadata": {},
   "outputs": [
    {
     "name": "stdout",
     "output_type": "stream",
     "text": [
      "x: [0.39265461 0.82894854 0.24393495 0.62826085 0.42111272 0.08593511\n",
      " 0.19932239 0.78046809 0.34454011 0.12996522]\n",
      "y: [0.13421596 0.65712536 0.05099052 0.43793132 0.80932512 0.72386593\n",
      " 0.46196917 0.82216193 0.24853603 0.80622302]\n",
      "1.1245862840379657\n"
     ]
    }
   ],
   "source": [
    "\"\"\"欧氏距离的计算\n",
    "\"\"\"\n",
    "import numpy as np\n",
    "\n",
    "\n",
    "def d_euc(x, y):\n",
    "    d = np.sqrt(np.sum(np.square(x - y)))\n",
    "    return d\n",
    "\n",
    "\n",
    "x = np.random.random(10)  # 随机生成10个数的数组作为x特征的值\n",
    "print(\"x:\", x)\n",
    "y = np.random.random(10)\n",
    "print(\"y:\", y)\n",
    "distance_euc = d_euc(x, y)\n",
    "print(distance_euc)"
   ]
  },
  {
   "cell_type": "code",
   "execution_count": 6,
   "metadata": {},
   "outputs": [
    {
     "data": {
      "text/plain": [
       "[('C', 6), ('D', 5), ('A', 3), ('B', 2)]"
      ]
     },
     "execution_count": 6,
     "metadata": {},
     "output_type": "execute_result"
    }
   ],
   "source": [
    "\"\"\"多数表决法\n",
    "\"\"\"\n",
    "import operator\n",
    "\n",
    "\n",
    "def majority_voting(class_count):\n",
    "    sorted_class_count = sorted(\n",
    "        class_count.items(), key=operator.itemgetter(1), reverse=True)\n",
    "    return sorted_class_count\n",
    "\n",
    "\n",
    "arr = {'A': 3, 'B': 2, \"C\": 6, \"D\": 5}\n",
    "majority_voting(arr)"
   ]
  },
  {
   "cell_type": "code",
   "execution_count": 7,
   "metadata": {},
   "outputs": [],
   "source": [
    "\"\"\"KNN 方法完整实现\n",
    "\"\"\"\n",
    "\n",
    "\n",
    "def knn_classify(test_data, train_data, labels, k):\n",
    "    distances = np.array([])  # 创建一个空的数组用于存放距离\n",
    "\n",
    "    for each_data in train_data:  # 使用欧式距离计算数据相似度\n",
    "        d = d_euc(test_data, each_data)\n",
    "        distances = np.append(distances, d)\n",
    "\n",
    "    sorted_distance_index = distances.argsort()  # 获取按距离大小排序后的索引\n",
    "    sorted_distance = np.sort(distances)\n",
    "    r = (sorted_distance[k]+sorted_distance[k-1])/2  # 计算\n",
    "\n",
    "    class_count = {}\n",
    "    for i in range(k):  # 多数表决\n",
    "        vote_label = labels[sorted_distance_index[i]]\n",
    "        class_count[vote_label] = class_count.get(vote_label, 0) + 1\n",
    "\n",
    "    final_label = majority_voting(class_count)\n",
    "    return final_label, r"
   ]
  },
  {
   "cell_type": "code",
   "execution_count": 8,
   "metadata": {},
   "outputs": [
    {
     "data": {
      "text/plain": [
       "[('B', 3), ('A', 2)]"
      ]
     },
     "execution_count": 8,
     "metadata": {},
     "output_type": "execute_result"
    }
   ],
   "source": [
    "test_data = np.array([3.18, 3.15])\n",
    "final_label, r = knn_classify(test_data, features, labels, 5)\n",
    "final_label"
   ]
  },
  {
   "cell_type": "code",
   "execution_count": 9,
   "metadata": {},
   "outputs": [
    {
     "data": {
      "text/plain": [
       "[<matplotlib.lines.Line2D at 0x1bf5fafc860>]"
      ]
     },
     "execution_count": 9,
     "metadata": {},
     "output_type": "execute_result"
    },
    {
     "data": {
      "image/png": "[encoded data removed]",
      "text/plain": [
       "<matplotlib.figure.Figure at 0x1bf5faaa278>"
      ]
     },
     "metadata": {},
     "output_type": "display_data"
    }
   ],
   "source": [
    "def circle(r, a, b):  # 为了画出圆，这里采用极坐标的方式对圆进行表示 ：x=r*cosθ，y=r*sinθ。\n",
    "    theta = np.arange(0, 2*np.pi, 0.01)\n",
    "    x = a+r * np.cos(theta)\n",
    "    y = b+r * np.sin(theta)\n",
    "    return x, y\n",
    "\n",
    "\n",
    "k_circle_x, k_circle_y = circle(r, 3.18, 3.15)\n",
    "\n",
    "plt.figure(figsize=(5, 5))\n",
    "plt.xlim((2.4, 3.8))\n",
    "plt.ylim((2.4, 3.8))\n",
    "x_feature = list(map(lambda x: x[0], features))  # 返回每个数据的x特征值\n",
    "y_feature = list(map(lambda y: y[1], features))\n",
    "plt.scatter(x_feature[:5], y_feature[:5], c=\"b\")  # 在画布上绘画出\"A\"类标签的数据点\n",
    "plt.scatter(x_feature[5:], y_feature[5:], c=\"g\")\n",
    "plt.scatter([3.18], [3.15], c=\"r\", marker=\"x\")  # 待测试点的坐标为 [3.1，3.2]\n",
    "plt.plot(k_circle_x, k_circle_y)"
   ]
  },
  {
   "cell_type": "code",
   "execution_count": 10,
   "metadata": {},
   "outputs": [
    {
     "data": {
      "application/vnd.jupyter.widget-view+json": {
       "model_id": "b28e3f5188f541d2b84729a6e334c446",
       "version_major": 2,
       "version_minor": 0
      },
      "text/html": [
       "<p>Failed to display Jupyter Widget of type <code>interactive</code>.</p>\n",
       "<p>\n",
       "  If you're reading this message in the Jupyter Notebook or JupyterLab Notebook, it may mean\n",
       "  that the widgets JavaScript is still loading. If this message persists, it\n",
       "  likely means that the widgets JavaScript library is either not installed or\n",
       "  not enabled. See the <a href=\"https://ipywidgets.readthedocs.io/en/stable/user_install.html\">Jupyter\n",
       "  Widgets Documentation</a> for setup instructions.\n",
       "</p>\n",
       "<p>\n",
       "  If you're reading this message in another frontend (for example, a static\n",
       "  rendering on GitHub or <a href=\"https://nbviewer.jupyter.org/\">NBViewer</a>),\n",
       "  it may mean that your frontend doesn't currently support widgets.\n",
       "</p>\n"
      ],
      "text/plain": [
       "interactive(children=(Dropdown(description='k', options=(3, 5, 7, 9), value=3), Output()), _dom_classes=('widget-interact',))"
      ]
     },
     "metadata": {},
     "output_type": "display_data"
    },
    {
     "data": {
      "text/plain": [
       "<function __main__.change_k>"
      ]
     },
     "execution_count": 10,
     "metadata": {},
     "output_type": "execute_result"
    }
   ],
   "source": [
    "from ipywidgets import interact, fixed\n",
    "\n",
    "\n",
    "def change_k(test_data, features, k):\n",
    "    final_label, r = knn_classify(test_data, features, labels, k)\n",
    "    k_circle_x, k_circle_y = circle(r, 3.18, 3.15)\n",
    "    plt.figure(figsize=(5, 5))\n",
    "    plt.xlim((2.4, 3.8))\n",
    "    plt.ylim((2.4, 3.8))\n",
    "    x_feature = list(map(lambda x: x[0], features))  # 返回每个数据的x特征值\n",
    "    y_feature = list(map(lambda y: y[1], features))\n",
    "    plt.scatter(x_feature[:5], y_feature[:5], c=\"b\")  # 在画布上绘画出\"A\"类标签的数据点\n",
    "    plt.scatter(x_feature[5:], y_feature[5:], c=\"g\")\n",
    "    plt.scatter([3.18], [3.15], c=\"r\", marker=\"x\")  # 待测试点的坐标为 [3.1，3.2]\n",
    "    plt.plot(k_circle_x, k_circle_y)\n",
    "\n",
    "\n",
    "interact(change_k, test_data=fixed(test_data),\n",
    "         features=fixed(features), k=[3, 5, 7, 9])"
   ]
  },
  {
   "cell_type": "code",
   "execution_count": 11,
   "metadata": {},
   "outputs": [
    {
     "name": "stderr",
     "output_type": "stream",
     "text": [
      "--2018-09-24 21:48:29--  http://labfile.oss.aliyuncs.com/courses/1081/course-9-syringa.csv\n",
      "Resolving labfile.oss.aliyuncs.com (labfile.oss.aliyuncs.com)... 118.178.161.16\n",
      "Connecting to labfile.oss.aliyuncs.com (labfile.oss.aliyuncs.com)|118.178.161.16|:80... connected.\n",
      "HTTP request sent, awaiting response... 200 OK\n",
      "Length: 3899 (3.8K) [text/csv]\n",
      "Saving to: 'course-9-syringa.csv'\n",
      "\n",
      "     0K ...                                                   100% 39.9M=0s\n",
      "\n",
      "2018-09-24 21:48:30 (39.9 MB/s) - 'course-9-syringa.csv' saved [3899/3899]\n",
      "\n"
     ]
    }
   ],
   "source": [
    "!wget http://labfile.oss.aliyuncs.com/courses/1081/course-9-syringa.csv"
   ]
  },
  {
   "cell_type": "code",
   "execution_count": 12,
   "metadata": {},
   "outputs": [
    {
     "data": {
      "text/html": [
       "<div>\n",
       "<style scoped>\n",
       "    .dataframe tbody tr th:only-of-type {\n",
       "        vertical-align: middle;\n",
       "    }\n",
       "\n",
       "    .dataframe tbody tr th {\n",
       "        vertical-align: top;\n",
       "    }\n",
       "\n",
       "    .dataframe thead th {\n",
       "        text-align: right;\n",
       "    }\n",
       "</style>\n",
       "<table border=\"1\" class=\"dataframe\">\n",
       "  <thead>\n",
       "    <tr style=\"text-align: right;\">\n",
       "      <th></th>\n",
       "      <th>sepal_length</th>\n",
       "      <th>sepal_width</th>\n",
       "      <th>petal_length</th>\n",
       "      <th>petal_width</th>\n",
       "      <th>labels</th>\n",
       "    </tr>\n",
       "  </thead>\n",
       "  <tbody>\n",
       "    <tr>\n",
       "      <th>0</th>\n",
       "      <td>5.1</td>\n",
       "      <td>3.5</td>\n",
       "      <td>2.4</td>\n",
       "      <td>2.1</td>\n",
       "      <td>daphne</td>\n",
       "    </tr>\n",
       "    <tr>\n",
       "      <th>1</th>\n",
       "      <td>4.9</td>\n",
       "      <td>3.0</td>\n",
       "      <td>2.7</td>\n",
       "      <td>1.7</td>\n",
       "      <td>daphne</td>\n",
       "    </tr>\n",
       "    <tr>\n",
       "      <th>2</th>\n",
       "      <td>4.7</td>\n",
       "      <td>3.2</td>\n",
       "      <td>2.2</td>\n",
       "      <td>1.4</td>\n",
       "      <td>daphne</td>\n",
       "    </tr>\n",
       "    <tr>\n",
       "      <th>3</th>\n",
       "      <td>4.6</td>\n",
       "      <td>3.1</td>\n",
       "      <td>1.6</td>\n",
       "      <td>1.7</td>\n",
       "      <td>daphne</td>\n",
       "    </tr>\n",
       "    <tr>\n",
       "      <th>4</th>\n",
       "      <td>5.0</td>\n",
       "      <td>3.6</td>\n",
       "      <td>1.6</td>\n",
       "      <td>1.4</td>\n",
       "      <td>daphne</td>\n",
       "    </tr>\n",
       "  </tbody>\n",
       "</table>\n",
       "</div>"
      ],
      "text/plain": [
       "   sepal_length  sepal_width  petal_length  petal_width  labels\n",
       "0           5.1          3.5           2.4          2.1  daphne\n",
       "1           4.9          3.0           2.7          1.7  daphne\n",
       "2           4.7          3.2           2.2          1.4  daphne\n",
       "3           4.6          3.1           1.6          1.7  daphne\n",
       "4           5.0          3.6           1.6          1.4  daphne"
      ]
     },
     "execution_count": 12,
     "metadata": {},
     "output_type": "execute_result"
    }
   ],
   "source": [
    "\"\"\"加载数据集\n",
    "\"\"\"\n",
    "import pandas as pd\n",
    "\n",
    "lilac_data = pd.read_csv('course-9-syringa.csv')\n",
    "lilac_data.head()  # 预览前 5 行"
   ]
  },
  {
   "cell_type": "code",
   "execution_count": 13,
   "metadata": {},
   "outputs": [
    {
     "data": {
      "text/plain": [
       "<matplotlib.collections.PathCollection at 0x1bf607694e0>"
      ]
     },
     "execution_count": 13,
     "metadata": {},
     "output_type": "execute_result"
    },
    {
     "data": {
      "image/png": "[encoded data removed]",
      "text/plain": [
       "<matplotlib.figure.Figure at 0x1bf60610550>"
      ]
     },
     "metadata": {},
     "output_type": "display_data"
    }
   ],
   "source": [
    "\"\"\"绘制丁香花特征子图\n",
    "\"\"\"\n",
    "fig, axes = plt.subplots(2, 3, figsize=(20, 10))  # 构建生成 2*3 的画布，2 行 3 列\n",
    "fig.subplots_adjust(hspace=0.3, wspace=0.2)  # 定义每个画布内的行间隔和高间隔\n",
    "axes[0, 0].set_xlabel(\"sepal_length\")  # 定义 x 轴坐标值\n",
    "axes[0, 0].set_ylabel(\"sepal_width\")  # 定义 y 轴坐标值\n",
    "axes[0, 0].scatter(lilac_data.sepal_length[:50],\n",
    "                   lilac_data.sepal_width[:50], c=\"b\")\n",
    "axes[0, 0].scatter(lilac_data.sepal_length[50:100],\n",
    "                   lilac_data.sepal_width[50:100], c=\"g\")\n",
    "axes[0, 0].scatter(lilac_data.sepal_length[100:],\n",
    "                   lilac_data.sepal_width[100:], c=\"r\")\n",
    "axes[0, 0].legend([\"daphne\", \"syringa\", \"willow\"], loc=2)  # 定义示例\n",
    "\n",
    "axes[0, 1].set_xlabel(\"petal_length\")\n",
    "axes[0, 1].set_ylabel(\"petal_width\")\n",
    "axes[0, 1].scatter(lilac_data.petal_length[:50],\n",
    "                   lilac_data.petal_width[:50], c=\"b\")\n",
    "axes[0, 1].scatter(lilac_data.petal_length[50:100],\n",
    "                   lilac_data.petal_width[50:100], c=\"g\")\n",
    "axes[0, 1].scatter(lilac_data.petal_length[100:],\n",
    "                   lilac_data.petal_width[100:], c=\"r\")\n",
    "\n",
    "axes[0, 2].set_xlabel(\"sepal_length\")\n",
    "axes[0, 2].set_ylabel(\"petal_length\")\n",
    "axes[0, 2].scatter(lilac_data.sepal_length[:50],\n",
    "                   lilac_data.petal_length[:50], c=\"b\")\n",
    "axes[0, 2].scatter(lilac_data.sepal_length[50:100],\n",
    "                   lilac_data.petal_length[50:100], c=\"g\")\n",
    "axes[0, 2].scatter(lilac_data.sepal_length[100:],\n",
    "                   lilac_data.petal_length[100:], c=\"r\")\n",
    "\n",
    "axes[1, 0].set_xlabel(\"sepal_width\")\n",
    "axes[1, 0].set_ylabel(\"petal_width\")\n",
    "axes[1, 0].scatter(lilac_data.sepal_width[:50],\n",
    "                   lilac_data.petal_width[:50], c=\"b\")\n",
    "axes[1, 0].scatter(lilac_data.sepal_width[50:100],\n",
    "                   lilac_data.petal_width[50:100], c=\"g\")\n",
    "axes[1, 0].scatter(lilac_data.sepal_width[100:],\n",
    "                   lilac_data.petal_width[100:], c=\"r\")\n",
    "\n",
    "axes[1, 1].set_xlabel(\"sepal_length\")\n",
    "axes[1, 1].set_ylabel(\"petal_width\")\n",
    "axes[1, 1].scatter(lilac_data.sepal_length[:50],\n",
    "                   lilac_data.petal_width[:50], c=\"b\")\n",
    "axes[1, 1].scatter(lilac_data.sepal_length[50:100],\n",
    "                   lilac_data.petal_width[50:100], c=\"g\")\n",
    "axes[1, 1].scatter(lilac_data.sepal_length[100:],\n",
    "                   lilac_data.petal_width[100:], c=\"r\")\n",
    "\n",
    "axes[1, 2].set_xlabel(\"sepal_width\")\n",
    "axes[1, 2].set_ylabel(\"petal_length\")\n",
    "axes[1, 2].scatter(lilac_data.sepal_width[:50],\n",
    "                   lilac_data.petal_length[:50], c=\"b\")\n",
    "axes[1, 2].scatter(lilac_data.sepal_width[50:100],\n",
    "                   lilac_data.petal_length[50:100], c=\"g\")\n",
    "axes[1, 2].scatter(lilac_data.sepal_width[100:],\n",
    "                   lilac_data.petal_length[100:], c=\"r\")"
   ]
  },
  {
   "cell_type": "code",
   "execution_count": 14,
   "metadata": {},
   "outputs": [
    {
     "data": {
      "text/html": [
       "<div>\n",
       "<style scoped>\n",
       "    .dataframe tbody tr th:only-of-type {\n",
       "        vertical-align: middle;\n",
       "    }\n",
       "\n",
       "    .dataframe tbody tr th {\n",
       "        vertical-align: top;\n",
       "    }\n",
       "\n",
       "    .dataframe thead th {\n",
       "        text-align: right;\n",
       "    }\n",
       "</style>\n",
       "<table border=\"1\" class=\"dataframe\">\n",
       "  <thead>\n",
       "    <tr style=\"text-align: right;\">\n",
       "      <th></th>\n",
       "      <th>sepal_length</th>\n",
       "      <th>sepal_width</th>\n",
       "      <th>petal_length</th>\n",
       "      <th>petal_width</th>\n",
       "    </tr>\n",
       "  </thead>\n",
       "  <tbody>\n",
       "    <tr>\n",
       "      <th>6</th>\n",
       "      <td>4.6</td>\n",
       "      <td>3.4</td>\n",
       "      <td>2.5</td>\n",
       "      <td>1.6</td>\n",
       "    </tr>\n",
       "    <tr>\n",
       "      <th>3</th>\n",
       "      <td>4.6</td>\n",
       "      <td>3.1</td>\n",
       "      <td>1.6</td>\n",
       "      <td>1.7</td>\n",
       "    </tr>\n",
       "    <tr>\n",
       "      <th>113</th>\n",
       "      <td>5.1</td>\n",
       "      <td>2.5</td>\n",
       "      <td>4.6</td>\n",
       "      <td>2.0</td>\n",
       "    </tr>\n",
       "    <tr>\n",
       "      <th>12</th>\n",
       "      <td>4.8</td>\n",
       "      <td>3.0</td>\n",
       "      <td>2.2</td>\n",
       "      <td>1.5</td>\n",
       "    </tr>\n",
       "    <tr>\n",
       "      <th>24</th>\n",
       "      <td>4.8</td>\n",
       "      <td>3.4</td>\n",
       "      <td>2.1</td>\n",
       "      <td>2.2</td>\n",
       "    </tr>\n",
       "    <tr>\n",
       "      <th>129</th>\n",
       "      <td>6.2</td>\n",
       "      <td>3.0</td>\n",
       "      <td>4.0</td>\n",
       "      <td>1.6</td>\n",
       "    </tr>\n",
       "    <tr>\n",
       "      <th>25</th>\n",
       "      <td>5.0</td>\n",
       "      <td>3.0</td>\n",
       "      <td>3.3</td>\n",
       "      <td>1.7</td>\n",
       "    </tr>\n",
       "    <tr>\n",
       "      <th>108</th>\n",
       "      <td>5.7</td>\n",
       "      <td>2.5</td>\n",
       "      <td>4.1</td>\n",
       "      <td>2.8</td>\n",
       "    </tr>\n",
       "    <tr>\n",
       "      <th>128</th>\n",
       "      <td>5.9</td>\n",
       "      <td>2.8</td>\n",
       "      <td>4.1</td>\n",
       "      <td>2.1</td>\n",
       "    </tr>\n",
       "    <tr>\n",
       "      <th>45</th>\n",
       "      <td>4.8</td>\n",
       "      <td>3.0</td>\n",
       "      <td>1.9</td>\n",
       "      <td>1.5</td>\n",
       "    </tr>\n",
       "    <tr>\n",
       "      <th>48</th>\n",
       "      <td>5.3</td>\n",
       "      <td>3.7</td>\n",
       "      <td>3.0</td>\n",
       "      <td>1.8</td>\n",
       "    </tr>\n",
       "    <tr>\n",
       "      <th>42</th>\n",
       "      <td>4.4</td>\n",
       "      <td>3.2</td>\n",
       "      <td>2.1</td>\n",
       "      <td>1.3</td>\n",
       "    </tr>\n",
       "    <tr>\n",
       "      <th>35</th>\n",
       "      <td>5.0</td>\n",
       "      <td>3.2</td>\n",
       "      <td>1.4</td>\n",
       "      <td>1.3</td>\n",
       "    </tr>\n",
       "    <tr>\n",
       "      <th>5</th>\n",
       "      <td>5.4</td>\n",
       "      <td>3.9</td>\n",
       "      <td>1.8</td>\n",
       "      <td>1.5</td>\n",
       "    </tr>\n",
       "    <tr>\n",
       "      <th>85</th>\n",
       "      <td>6.0</td>\n",
       "      <td>3.4</td>\n",
       "      <td>4.5</td>\n",
       "      <td>1.7</td>\n",
       "    </tr>\n",
       "    <tr>\n",
       "      <th>54</th>\n",
       "      <td>6.5</td>\n",
       "      <td>2.8</td>\n",
       "      <td>4.6</td>\n",
       "      <td>2.4</td>\n",
       "    </tr>\n",
       "    <tr>\n",
       "      <th>41</th>\n",
       "      <td>4.5</td>\n",
       "      <td>2.3</td>\n",
       "      <td>2.5</td>\n",
       "      <td>1.3</td>\n",
       "    </tr>\n",
       "    <tr>\n",
       "      <th>96</th>\n",
       "      <td>5.7</td>\n",
       "      <td>2.9</td>\n",
       "      <td>4.2</td>\n",
       "      <td>2.3</td>\n",
       "    </tr>\n",
       "    <tr>\n",
       "      <th>144</th>\n",
       "      <td>6.7</td>\n",
       "      <td>3.3</td>\n",
       "      <td>4.9</td>\n",
       "      <td>2.5</td>\n",
       "    </tr>\n",
       "    <tr>\n",
       "      <th>89</th>\n",
       "      <td>5.5</td>\n",
       "      <td>2.5</td>\n",
       "      <td>4.0</td>\n",
       "      <td>2.2</td>\n",
       "    </tr>\n",
       "    <tr>\n",
       "      <th>77</th>\n",
       "      <td>6.7</td>\n",
       "      <td>3.0</td>\n",
       "      <td>5.0</td>\n",
       "      <td>2.1</td>\n",
       "    </tr>\n",
       "    <tr>\n",
       "      <th>74</th>\n",
       "      <td>6.4</td>\n",
       "      <td>2.9</td>\n",
       "      <td>4.3</td>\n",
       "      <td>1.9</td>\n",
       "    </tr>\n",
       "    <tr>\n",
       "      <th>115</th>\n",
       "      <td>6.3</td>\n",
       "      <td>3.2</td>\n",
       "      <td>4.2</td>\n",
       "      <td>2.3</td>\n",
       "    </tr>\n",
       "    <tr>\n",
       "      <th>94</th>\n",
       "      <td>5.6</td>\n",
       "      <td>2.7</td>\n",
       "      <td>4.2</td>\n",
       "      <td>1.5</td>\n",
       "    </tr>\n",
       "    <tr>\n",
       "      <th>87</th>\n",
       "      <td>6.3</td>\n",
       "      <td>2.3</td>\n",
       "      <td>4.4</td>\n",
       "      <td>1.8</td>\n",
       "    </tr>\n",
       "    <tr>\n",
       "      <th>29</th>\n",
       "      <td>4.7</td>\n",
       "      <td>3.2</td>\n",
       "      <td>2.4</td>\n",
       "      <td>1.7</td>\n",
       "    </tr>\n",
       "    <tr>\n",
       "      <th>2</th>\n",
       "      <td>4.7</td>\n",
       "      <td>3.2</td>\n",
       "      <td>2.2</td>\n",
       "      <td>1.4</td>\n",
       "    </tr>\n",
       "    <tr>\n",
       "      <th>127</th>\n",
       "      <td>6.1</td>\n",
       "      <td>3.0</td>\n",
       "      <td>3.5</td>\n",
       "      <td>1.8</td>\n",
       "    </tr>\n",
       "    <tr>\n",
       "      <th>44</th>\n",
       "      <td>5.1</td>\n",
       "      <td>3.8</td>\n",
       "      <td>3.1</td>\n",
       "      <td>2.7</td>\n",
       "    </tr>\n",
       "    <tr>\n",
       "      <th>125</th>\n",
       "      <td>6.5</td>\n",
       "      <td>3.2</td>\n",
       "      <td>5.7</td>\n",
       "      <td>1.8</td>\n",
       "    </tr>\n",
       "    <tr>\n",
       "      <th>126</th>\n",
       "      <td>5.3</td>\n",
       "      <td>2.8</td>\n",
       "      <td>4.3</td>\n",
       "      <td>1.8</td>\n",
       "    </tr>\n",
       "    <tr>\n",
       "      <th>23</th>\n",
       "      <td>5.1</td>\n",
       "      <td>3.3</td>\n",
       "      <td>2.1</td>\n",
       "      <td>2.0</td>\n",
       "    </tr>\n",
       "    <tr>\n",
       "      <th>64</th>\n",
       "      <td>5.6</td>\n",
       "      <td>2.9</td>\n",
       "      <td>3.6</td>\n",
       "      <td>1.7</td>\n",
       "    </tr>\n",
       "    <tr>\n",
       "      <th>117</th>\n",
       "      <td>7.5</td>\n",
       "      <td>3.8</td>\n",
       "      <td>4.9</td>\n",
       "      <td>2.2</td>\n",
       "    </tr>\n",
       "    <tr>\n",
       "      <th>84</th>\n",
       "      <td>5.4</td>\n",
       "      <td>3.0</td>\n",
       "      <td>4.5</td>\n",
       "      <td>2.2</td>\n",
       "    </tr>\n",
       "    <tr>\n",
       "      <th>14</th>\n",
       "      <td>5.8</td>\n",
       "      <td>4.0</td>\n",
       "      <td>2.4</td>\n",
       "      <td>1.5</td>\n",
       "    </tr>\n",
       "    <tr>\n",
       "      <th>132</th>\n",
       "      <td>5.4</td>\n",
       "      <td>2.8</td>\n",
       "      <td>4.0</td>\n",
       "      <td>2.2</td>\n",
       "    </tr>\n",
       "    <tr>\n",
       "      <th>91</th>\n",
       "      <td>6.1</td>\n",
       "      <td>3.0</td>\n",
       "      <td>4.6</td>\n",
       "      <td>1.4</td>\n",
       "    </tr>\n",
       "    <tr>\n",
       "      <th>53</th>\n",
       "      <td>5.5</td>\n",
       "      <td>2.3</td>\n",
       "      <td>4.0</td>\n",
       "      <td>1.8</td>\n",
       "    </tr>\n",
       "    <tr>\n",
       "      <th>141</th>\n",
       "      <td>6.7</td>\n",
       "      <td>3.1</td>\n",
       "      <td>3.6</td>\n",
       "      <td>2.3</td>\n",
       "    </tr>\n",
       "    <tr>\n",
       "      <th>78</th>\n",
       "      <td>6.0</td>\n",
       "      <td>2.9</td>\n",
       "      <td>4.5</td>\n",
       "      <td>1.7</td>\n",
       "    </tr>\n",
       "    <tr>\n",
       "      <th>97</th>\n",
       "      <td>6.2</td>\n",
       "      <td>2.9</td>\n",
       "      <td>4.3</td>\n",
       "      <td>2.3</td>\n",
       "    </tr>\n",
       "    <tr>\n",
       "      <th>143</th>\n",
       "      <td>5.9</td>\n",
       "      <td>3.2</td>\n",
       "      <td>4.5</td>\n",
       "      <td>2.3</td>\n",
       "    </tr>\n",
       "    <tr>\n",
       "      <th>93</th>\n",
       "      <td>5.0</td>\n",
       "      <td>2.3</td>\n",
       "      <td>3.3</td>\n",
       "      <td>1.8</td>\n",
       "    </tr>\n",
       "    <tr>\n",
       "      <th>11</th>\n",
       "      <td>4.8</td>\n",
       "      <td>3.4</td>\n",
       "      <td>2.2</td>\n",
       "      <td>1.7</td>\n",
       "    </tr>\n",
       "  </tbody>\n",
       "</table>\n",
       "</div>"
      ],
      "text/plain": [
       "     sepal_length  sepal_width  petal_length  petal_width\n",
       "6             4.6          3.4           2.5          1.6\n",
       "3             4.6          3.1           1.6          1.7\n",
       "113           5.1          2.5           4.6          2.0\n",
       "12            4.8          3.0           2.2          1.5\n",
       "24            4.8          3.4           2.1          2.2\n",
       "129           6.2          3.0           4.0          1.6\n",
       "25            5.0          3.0           3.3          1.7\n",
       "108           5.7          2.5           4.1          2.8\n",
       "128           5.9          2.8           4.1          2.1\n",
       "45            4.8          3.0           1.9          1.5\n",
       "48            5.3          3.7           3.0          1.8\n",
       "42            4.4          3.2           2.1          1.3\n",
       "35            5.0          3.2           1.4          1.3\n",
       "5             5.4          3.9           1.8          1.5\n",
       "85            6.0          3.4           4.5          1.7\n",
       "54            6.5          2.8           4.6          2.4\n",
       "41            4.5          2.3           2.5          1.3\n",
       "96            5.7          2.9           4.2          2.3\n",
       "144           6.7          3.3           4.9          2.5\n",
       "89            5.5          2.5           4.0          2.2\n",
       "77            6.7          3.0           5.0          2.1\n",
       "74            6.4          2.9           4.3          1.9\n",
       "115           6.3          3.2           4.2          2.3\n",
       "94            5.6          2.7           4.2          1.5\n",
       "87            6.3          2.3           4.4          1.8\n",
       "29            4.7          3.2           2.4          1.7\n",
       "2             4.7          3.2           2.2          1.4\n",
       "127           6.1          3.0           3.5          1.8\n",
       "44            5.1          3.8           3.1          2.7\n",
       "125           6.5          3.2           5.7          1.8\n",
       "126           5.3          2.8           4.3          1.8\n",
       "23            5.1          3.3           2.1          2.0\n",
       "64            5.6          2.9           3.6          1.7\n",
       "117           7.5          3.8           4.9          2.2\n",
       "84            5.4          3.0           4.5          2.2\n",
       "14            5.8          4.0           2.4          1.5\n",
       "132           5.4          2.8           4.0          2.2\n",
       "91            6.1          3.0           4.6          1.4\n",
       "53            5.5          2.3           4.0          1.8\n",
       "141           6.7          3.1           3.6          2.3\n",
       "78            6.0          2.9           4.5          1.7\n",
       "97            6.2          2.9           4.3          2.3\n",
       "143           5.9          3.2           4.5          2.3\n",
       "93            5.0          2.3           3.3          1.8\n",
       "11            4.8          3.4           2.2          1.7"
      ]
     },
     "execution_count": 14,
     "metadata": {},
     "output_type": "execute_result"
    }
   ],
   "source": [
    "from sklearn.model_selection import train_test_split\n",
    "\n",
    "# 得到 lilac 数据集中 feature 的全部序列: sepal_length,sepal_width,petal_length,petal_width\n",
    "feature_data = lilac_data.iloc[:, :-1]\n",
    "label_data = lilac_data[\"labels\"]  # 得到 lilac 数据集中 label 的序列\n",
    "x_train, x_test, y_train, y_test = train_test_split(\n",
    "    feature_data, label_data, test_size=0.3, random_state=2)\n",
    "\n",
    "x_test  # 输出 lilac_test 查看"
   ]
  },
  {
   "cell_type": "code",
   "execution_count": 16,
   "metadata": {},
   "outputs": [],
   "source": [
    "\"\"\"使用 sklearn 构建 KNN 预测模型\n",
    "\"\"\"\n",
    "from sklearn import neighbors\n",
    "import sklearn\n",
    "\n",
    "\n",
    "def sklearn_classify(train_data, label_data, test_data, k_num):\n",
    "    knn = neighbors.KNeighborsClassifier(n_neighbors=k_num)\n",
    "    # 训练数据集\n",
    "    knn.fit(train_data, label_data)\n",
    "    # 预测\n",
    "    predict_label = knn.predict(test_data)\n",
    "    # 返回预测值\n",
    "    return predict_label"
   ]
  },
  {
   "cell_type": "code",
   "execution_count": 17,
   "metadata": {},
   "outputs": [
    {
     "data": {
      "text/plain": [
       "array(['daphne', 'daphne', 'willow ', 'daphne', 'daphne', 'willow ',\n",
       "       'daphne', 'syringa', 'willow ', 'daphne', 'daphne', 'daphne',\n",
       "       'daphne', 'daphne', 'syringa', 'syringa', 'syringa', 'willow ',\n",
       "       'syringa', 'willow ', 'syringa', 'willow ', 'willow ', 'syringa',\n",
       "       'syringa', 'daphne', 'daphne', 'willow ', 'daphne', 'willow ',\n",
       "       'willow ', 'daphne', 'syringa', 'willow ', 'willow ', 'daphne',\n",
       "       'willow ', 'willow ', 'syringa', 'willow ', 'willow ', 'willow ',\n",
       "       'willow ', 'syringa', 'daphne'], dtype=object)"
      ]
     },
     "execution_count": 17,
     "metadata": {},
     "output_type": "execute_result"
    }
   ],
   "source": [
    "\"\"\"使用数据集进行预测\n",
    "\"\"\"\n",
    "y_predict = sklearn_classify(x_train, y_train, x_test, 3)\n",
    "y_predict"
   ]
  },
  {
   "cell_type": "code",
   "execution_count": 18,
   "metadata": {},
   "outputs": [],
   "source": [
    "\"\"\"准确率计算\n",
    "\"\"\"\n",
    "\n",
    "\n",
    "def get_accuracy(test_labels, pred_labels):\n",
    "    correct = np.sum(test_labels == pred_labels)  # 计算预测正确的数据个数\n",
    "    n = len(test_labels)  # 总测试集数据个数\n",
    "    accur = correct/n\n",
    "    return accur"
   ]
  },
  {
   "cell_type": "code",
   "execution_count": 19,
   "metadata": {},
   "outputs": [
    {
     "data": {
      "text/plain": [
       "0.7777777777777778"
      ]
     },
     "execution_count": 19,
     "metadata": {},
     "output_type": "execute_result"
    }
   ],
   "source": [
    "get_accuracy(y_test, y_predict)"
   ]
  },
  {
   "cell_type": "code",
   "execution_count": 20,
   "metadata": {},
   "outputs": [
    {
     "data": {
      "image/png": "[encoded data removed]",
      "text/plain": [
       "<matplotlib.figure.Figure at 0x1bf62584588>"
      ]
     },
     "metadata": {},
     "output_type": "display_data"
    }
   ],
   "source": [
    "normal_accuracy = []  # 建立一个空的准确率列表\n",
    "k_value = range(2, 11)\n",
    "for k in k_value:\n",
    "    y_predict = sklearn_classify(x_train, y_train, x_test, k)\n",
    "    accuracy = get_accuracy(y_test, y_predict)\n",
    "    normal_accuracy.append(accuracy)\n",
    "\n",
    "plt.xlabel(\"k\")\n",
    "plt.ylabel(\"accuracy\")\n",
    "new_ticks = np.linspace(0.6, 0.9, 10)  # 设定 y 轴显示，从 0.6 到 0.9\n",
    "plt.yticks(new_ticks)\n",
    "plt.plot(k_value, normal_accuracy, c='r')\n",
    "plt.grid(True)  # 给画布增加网格"
   ]
  },
  {
   "cell_type": "code",
   "execution_count": 21,
   "metadata": {},
   "outputs": [
    {
     "name": "stdout",
     "output_type": "stream",
     "text": [
      "normal_time: 0.00099945068359375\n",
      "kd_tree_time: 0.0019860267639160156\n"
     ]
    }
   ],
   "source": [
    "\"\"\"引入时间函数计算程序运行的时间\n",
    "\"\"\"\n",
    "import time\n",
    "\n",
    "# 不使用 kd 树计算\n",
    "time_start1 = time.time()\n",
    "knn = neighbors.KNeighborsClassifier(n_neighbors=5)\n",
    "knn.fit(x_train, y_train)\n",
    "predict_label = knn.predict(x_test)\n",
    "time_end1 = time.time()\n",
    "print(\"normal_time:\", time_end1-time_start1)\n",
    "\n",
    "# 使用 kd 树计算\n",
    "time_start2 = time.time()\n",
    "kd_knn = neighbors.KNeighborsClassifier(n_neighbors=5, algorithm='kd_tree')\n",
    "kd_knn.fit(x_train, y_train)\n",
    "predict_label = kd_knn.predict(x_test)\n",
    "time_end2 = time.time()\n",
    "print(\"kd_tree_time:\", time_end2-time_start2)"
   ]
  },
  {
   "cell_type": "code",
   "execution_count": null,
   "metadata": {},
   "outputs": [],
   "source": []
  }
 ],
 "metadata": {
  "kernelspec": {
   "display_name": "Python 3",
   "language": "python",
   "name": "python3"
  },
  "language_info": {
   "codemirror_mode": {
    "name": "ipython",
    "version": 3
   },
   "file_extension": ".py",
   "mimetype": "text/x-python",
   "name": "python",
   "nbconvert_exporter": "python",
   "pygments_lexer": "ipython3",
   "version": "3.6.4"
  }
 },
 "nbformat": 4,
 "nbformat_minor": 2
}
