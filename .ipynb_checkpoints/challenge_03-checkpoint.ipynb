{
 "cells": [
  {
   "cell_type": "code",
   "execution_count": 7,
   "metadata": {},
   "outputs": [],
   "source": [
    "#挑战：参考公式  (2)(2) ，完成 Python 实现岭回归系数  ww  的计算函数。\n",
    "\"\"\"岭回归系数 w 的计算函数\n",
    "\"\"\"\n",
    "\n",
    "import numpy as np\n",
    "\n",
    "def ridge_regression(X, Y, alpha):\n",
    "#def ridge_regression(xMat,yMat,lam=0.2):\n",
    "\n",
    "    \"\"\"\n",
    "    参数:\n",
    "    X -- 自变量数据矩阵\n",
    "    Y -- 因变量数据矩阵\n",
    "    alpha -- lamda 参数\n",
    "\n",
    "    返回:\n",
    "    W -- 岭回归系数\n",
    "    \"\"\"  \n",
    "    ### 代码开始 ### (≈ 3 行代码)\n",
    " #   xTx = xMat.T*xMat\n",
    " #   denom = xTx + np.eye(np.shape(xMat)[1])*lam\n",
    " #   ws = denom.I * (xMat.T*yMat)\n",
    " #   return ws\n",
    "\n",
    "    xTx = X.T*X\n",
    "    denom = xTx + np.eye(np.shape(X)[1])*alpha\n",
    "    W = denom.I * (X.T*Y)\n",
    "    ### 代码结束 ###\n",
    "    \n",
    "    return W"
   ]
  },
  {
   "cell_type": "code",
   "execution_count": 8,
   "metadata": {},
   "outputs": [],
   "source": [
    "np.random.seed(10) # 设置随机数种子\n",
    "\n",
    "X = np.matrix(np.random.randint(5, size=(10, 10)))\n",
    "Y = np.matrix(np.random.randint(10, size=(10,1 )))\n",
    "alpha = 0.5"
   ]
  },
  {
   "cell_type": "code",
   "execution_count": 9,
   "metadata": {},
   "outputs": [
    {
     "data": {
      "text/plain": [
       "matrix([[ 1.42278923,  2.20583559, -0.6391644 ,  0.64022529, -0.44014758,\n",
       "          1.66307858, -0.83879894, -0.25611354, -0.06951638, -2.56882017]])"
      ]
     },
     "execution_count": 9,
     "metadata": {},
     "output_type": "execute_result"
    }
   ],
   "source": [
    "ridge_regression(X, Y, alpha).T"
   ]
  },
  {
   "cell_type": "code",
   "execution_count": 12,
   "metadata": {},
   "outputs": [],
   "source": [
    "#挑战：使用 scikit-learn 计算岭回归系数  ww 。\n",
    "\"\"\"使用 scikit-learn 计算岭回归系数 w\n",
    "\"\"\"\n",
    "\n",
    "from sklearn.linear_model import Ridge\n",
    "\n",
    "def ridge_model(X, Y, alpha):\n",
    "    \"\"\"\n",
    "    参数:\n",
    "    X -- 自变量数据矩阵\n",
    "    Y -- 因变量数据矩阵\n",
    "    alpha -- lamda 参数\n",
    "\n",
    "    返回:\n",
    "    W -- 岭回归系数\n",
    "    \"\"\"\n",
    "    \n",
    "    ### 代码开始 ### (≈ 3 行代码)\n",
    "    ridge = Ridge(alpha=alpha, fit_intercept=False)\n",
    "    ridge.fit(X, Y)\n",
    "    W=ridge.coef_\n",
    "\n",
    "    ### 代码结束 ###\n",
    "    \n",
    "    return W"
   ]
  },
  {
   "cell_type": "code",
   "execution_count": 13,
   "metadata": {},
   "outputs": [
    {
     "data": {
      "text/plain": [
       "array([[ 1.42278923,  2.20583559, -0.6391644 ,  0.64022529, -0.44014758,\n",
       "         1.66307858, -0.83879894, -0.25611354, -0.06951638, -2.56882017]])"
      ]
     },
     "execution_count": 13,
     "metadata": {},
     "output_type": "execute_result"
    }
   ],
   "source": [
    "ridge_model(X, Y, alpha)"
   ]
  },
  {
   "cell_type": "code",
   "execution_count": null,
   "metadata": {},
   "outputs": [],
   "source": []
  }
 ],
 "metadata": {
  "kernelspec": {
   "display_name": "Python 3",
   "language": "python",
   "name": "python3"
  },
  "language_info": {
   "codemirror_mode": {
    "name": "ipython",
    "version": 3
   },
   "file_extension": ".py",
   "mimetype": "text/x-python",
   "name": "python",
   "nbconvert_exporter": "python",
   "pygments_lexer": "ipython3",
   "version": "3.6.5"
  }
 },
 "nbformat": 4,
 "nbformat_minor": 2
}
