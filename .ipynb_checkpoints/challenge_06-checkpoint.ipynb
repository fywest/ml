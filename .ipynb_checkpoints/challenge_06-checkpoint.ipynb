{
 "cells": [
  {
   "cell_type": "code",
   "execution_count": 1,
   "metadata": {},
   "outputs": [
    {
     "name": "stderr",
     "output_type": "stream",
     "text": [
      "--2018-09-26 22:17:11--  http://labfile.oss.aliyuncs.com/courses/1081/challenge-6-abalone.csv\n",
      "Resolving labfile.oss.aliyuncs.com (labfile.oss.aliyuncs.com)... 118.178.161.16\n",
      "Connecting to labfile.oss.aliyuncs.com (labfile.oss.aliyuncs.com)|118.178.161.16|:80... connected.\n",
      "HTTP request sent, awaiting response... 200 OK\n",
      "Length: 196138 (192K) [text/csv]\n",
      "Saving to: 'challenge-6-abalone.csv'\n",
      "\n",
      "     0K .......... .......... .......... .......... .......... 26% 58.3K 2s\n",
      "    50K .......... .......... .......... .......... .......... 52% 58.3K 2s\n",
      "   100K .......... .......... .......... .......... .......... 78% 58.2K 1s\n",
      "   150K .......... .......... .......... .......... .         100% 96.6K=3.0s\n",
      "\n",
      "2018-09-26 22:17:15 (63.8 KB/s) - 'challenge-6-abalone.csv' saved [196138/196138]\n",
      "\n"
     ]
    }
   ],
   "source": [
    "!wget http://labfile.oss.aliyuncs.com/courses/1081/challenge-6-abalone.csv"
   ]
  },
  {
   "cell_type": "code",
   "execution_count": null,
   "metadata": {},
   "outputs": [],
   "source": [
    "#挑战：加载 challenge-6-abalone.csv 数据集，并预览前 5 行。\n",
    "import pandas as pd\n",
    "\n",
    "### 代码开始 ### (≈ 2 行代码)\n",
    "\n",
    "df = None\n",
    "### 代码结束 ###"
   ]
  },
  {
   "cell_type": "code",
   "execution_count": null,
   "metadata": {},
   "outputs": [],
   "source": [
    "#挑战：预览数据集最后 5 行。\n",
    "### 代码开始 ### (≈ 1 行代码)\n",
    "\n",
    "### 代码结束 ###"
   ]
  },
  {
   "cell_type": "code",
   "execution_count": null,
   "metadata": {},
   "outputs": [],
   "source": [
    "#挑战：给数据集设定正确的列名，并保留被错误用于列名的数据行，同时删除最后一行被错误放置的列名。\n",
    "### 代码开始 ### (≈ 3～7 行代码)\n",
    "\n",
    "df = None\n",
    "### 代码结束 ###"
   ]
  },
  {
   "cell_type": "code",
   "execution_count": null,
   "metadata": {},
   "outputs": [],
   "source": [
    "pd.concat([df.head(2), df.tail(2)])"
   ]
  },
  {
   "cell_type": "code",
   "execution_count": null,
   "metadata": {},
   "outputs": [],
   "source": [
    "#挑战：将数据集目标值（Rings）按照区间替换为 3 种类别，并按照上文要求替换 Sex 列。\n",
    "### 代码开始 ### (≈ 3~5 行代码)\n",
    "\n",
    "### 代码结束 ###"
   ]
  },
  {
   "cell_type": "code",
   "execution_count": null,
   "metadata": {},
   "outputs": [],
   "source": [
    "print(df.iloc[[3,6,12,83]]['Rings'].values)\n",
    "df.head()"
   ]
  },
  {
   "cell_type": "code",
   "execution_count": null,
   "metadata": {},
   "outputs": [],
   "source": [
    "#挑战：使用 KFold() 将数据集划分为 10 折，指定参数：shuffle=False，random_state=50。"
   ]
  },
  {
   "cell_type": "code",
   "execution_count": null,
   "metadata": {},
   "outputs": [],
   "source": [
    "### 代码开始 ### (≈ 2 行代码)\n",
    "\n",
    "kf = None\n",
    "### 代码结束 ###"
   ]
  },
  {
   "cell_type": "code",
   "execution_count": null,
   "metadata": {},
   "outputs": [],
   "source": [
    "# 直接运行查看结果\n",
    "for train_index, test_index in kf.split(df):\n",
    "    print(\"TRAIN:\", len(train_index), \"TEST:\", len(test_index))"
   ]
  },
  {
   "cell_type": "code",
   "execution_count": null,
   "metadata": {},
   "outputs": [],
   "source": [
    "#挑战：使用 K-近邻方法构建机器学习分类模型，并进行 10 折交叉验证。\n",
    "### 代码开始 ### (≈ 4~7 行代码)\n",
    "\n",
    "\n",
    "cross_val_score()\n",
    "### 代码结束 ###"
   ]
  },
  {
   "cell_type": "code",
   "execution_count": null,
   "metadata": {},
   "outputs": [],
   "source": [
    "#挑战：使用 10 折交叉验证方法测试鲍鱼数据集在逻辑回归、K 近邻、支持向量机、人工神经网络、决策树、随机森林、Adaboost 默认参数下的表现结果，并取 10 折交叉验证结果取平均值。\n",
    "\"\"\"加载分类器模块\n",
    "\"\"\"\n",
    "### 代码开始 ### (≈ 7 行代码)\n",
    "\n",
    "\n",
    "### 代码结束 ###\n",
    "\n",
    "\"\"\"各分类模型 10 折交叉验证函数\n",
    "\"\"\"\n",
    "def classifiers():\n",
    "    \n",
    "    \"\"\"\n",
    "    参数:无\n",
    "\n",
    "    返回:\n",
    "    scores -- 各分类模型 10 折交叉验证平均结果（列表）\n",
    "    \"\"\"\n",
    "    ### 代码开始 ### (> 10 行代码)\n",
    "    scores = []\n",
    "    \n",
    "    ### 代码结束 ###\n",
    "    \n",
    "    return scores"
   ]
  },
  {
   "cell_type": "code",
   "execution_count": null,
   "metadata": {},
   "outputs": [],
   "source": [
    "classifiers()"
   ]
  }
 ],
 "metadata": {
  "kernelspec": {
   "display_name": "Python 3",
   "language": "python",
   "name": "python3"
  },
  "language_info": {
   "codemirror_mode": {
    "name": "ipython",
    "version": 3
   },
   "file_extension": ".py",
   "mimetype": "text/x-python",
   "name": "python",
   "nbconvert_exporter": "python",
   "pygments_lexer": "ipython3",
   "version": "3.6.4"
  }
 },
 "nbformat": 4,
 "nbformat_minor": 2
}
