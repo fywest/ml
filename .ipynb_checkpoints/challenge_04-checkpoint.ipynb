{
 "cells": [
  {
   "cell_type": "code",
   "execution_count": 6,
   "metadata": {},
   "outputs": [],
   "source": [
    "\"\"\"实现高斯分布函数\n",
    "挑战：参考高斯分布公式，使用 Python 实现高斯分布函数。\n",
    "\"\"\"\n",
    "import numpy as np\n",
    "\n",
    "def Gaussian(x, u, d):\n",
    "    \"\"\"\n",
    "    参数:\n",
    "    x -- 变量\n",
    "    u -- 均值\n",
    "    d -- 方差\n",
    "\n",
    "    返回:\n",
    "    p -- 高斯分布值\n",
    "    \"\"\"\n",
    "    ### 代码开始 ### (≈ 3~5 行代码)\n",
    "    zhishu = -(np.square(x-u)/ (2*d*d))\n",
    "    exp = np.exp(zhishu)\n",
    "    \n",
    "    p=1/(np.sqrt(2*np.pi)*d)*exp\n",
    "    #p = None\n",
    "    \n",
    "    return p\n",
    "    ### 代码结束 ###"
   ]
  },
  {
   "cell_type": "code",
   "execution_count": 7,
   "metadata": {},
   "outputs": [
    {
     "data": {
      "text/plain": [
       "(100, 0.030864654760573856)"
      ]
     },
     "execution_count": 7,
     "metadata": {},
     "output_type": "execute_result"
    }
   ],
   "source": [
    "x = np.linspace(-5, 5, 100)\n",
    "u=3.2\n",
    "d=5.5\n",
    "g = Gaussian(x, u, d)\n",
    "\n",
    "len(g),g[10]"
   ]
  },
  {
   "cell_type": "code",
   "execution_count": 12,
   "metadata": {},
   "outputs": [
    {
     "data": {
      "text/plain": [
       "<matplotlib.legend.Legend at 0x191e8e32080>"
      ]
     },
     "execution_count": 12,
     "metadata": {},
     "output_type": "execute_result"
    },
    {
     "data": {
      "image/png": "[encoded data removed]",
      "text/plain": [
       "<matplotlib.figure.Figure at 0x191e8eafb00>"
      ]
     },
     "metadata": {},
     "output_type": "display_data"
    }
   ],
   "source": [
    "\"\"\"\n",
    "挑战：按规定的参数绘制高斯分布图像。\n",
    "规定：\n",
    "\t• 绘制 4 组高斯分布线形图像，μμ 和 σσ 分别为：(0, 1), (-1, 2), (1, 0.5), (0.5, 5)。\n",
    "\t• 4 组高斯分布图像的线形颜色分别为红色、蓝色、绿色、黄色。\n",
    "\t• 绘制图例，并以 u=μμ, d=σσ 样式呈现。\n",
    "\n",
    "\"\"\"\n",
    "from matplotlib import pyplot as plt\n",
    "%matplotlib inline\n",
    "\n",
    "### 代码开始 ### (≈ 5~10 行代码)\n",
    "y_1 = Gaussian(x, 0, 1)\n",
    "y_2 = Gaussian(x, -1, 2)\n",
    "plt.plot(x, y_1, c='r', label=\"u=0, d=1\")\n",
    "plt.plot(x, y_2, c='b', label=\"u=0, d=1\")\n",
    "\n",
    "plt.legend()\n",
    "\n",
    "### 代码结束 ###\n"
   ]
  },
  {
   "cell_type": "code",
   "execution_count": null,
   "metadata": {},
   "outputs": [],
   "source": []
  }
 ],
 "metadata": {
  "kernelspec": {
   "display_name": "Python 3",
   "language": "python",
   "name": "python3"
  },
  "language_info": {
   "codemirror_mode": {
    "name": "ipython",
    "version": 3
   },
   "file_extension": ".py",
   "mimetype": "text/x-python",
   "name": "python",
   "nbconvert_exporter": "python",
   "pygments_lexer": "ipython3",
   "version": "3.6.4"
  }
 },
 "nbformat": 4,
 "nbformat_minor": 2
}
