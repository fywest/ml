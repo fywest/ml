{
 "cells": [
  {
   "cell_type": "code",
   "execution_count": 1,
   "metadata": {},
   "outputs": [],
   "source": [
    "# 点击运行下载数据集\n",
    "#!wget http://labfile.oss.aliyuncs.com/courses/1081/challenge-1-beijing.csv"
   ]
  },
  {
   "cell_type": "code",
   "execution_count": 2,
   "metadata": {},
   "outputs": [
    {
     "data": {
      "text/html": [
       "<div>\n",
       "<style scoped>\n",
       "    .dataframe tbody tr th:only-of-type {\n",
       "        vertical-align: middle;\n",
       "    }\n",
       "\n",
       "    .dataframe tbody tr th {\n",
       "        vertical-align: top;\n",
       "    }\n",
       "\n",
       "    .dataframe thead th {\n",
       "        text-align: right;\n",
       "    }\n",
       "</style>\n",
       "<table border=\"1\" class=\"dataframe\">\n",
       "  <thead>\n",
       "    <tr style=\"text-align: right;\">\n",
       "      <th></th>\n",
       "      <th>公交</th>\n",
       "      <th>写字楼</th>\n",
       "      <th>医院</th>\n",
       "      <th>商场</th>\n",
       "      <th>地铁</th>\n",
       "      <th>学校</th>\n",
       "      <th>小区名字</th>\n",
       "      <th>建造时间</th>\n",
       "      <th>房型</th>\n",
       "      <th>楼层</th>\n",
       "      <th>每平米价格</th>\n",
       "      <th>面积</th>\n",
       "    </tr>\n",
       "  </thead>\n",
       "  <tbody>\n",
       "    <tr>\n",
       "      <th>0</th>\n",
       "      <td>18</td>\n",
       "      <td>18</td>\n",
       "      <td>10</td>\n",
       "      <td>0</td>\n",
       "      <td>2</td>\n",
       "      <td>49</td>\n",
       "      <td>远洋山水</td>\n",
       "      <td>2006</td>\n",
       "      <td>2室1厅</td>\n",
       "      <td>26</td>\n",
       "      <td>60937</td>\n",
       "      <td>96</td>\n",
       "    </tr>\n",
       "    <tr>\n",
       "      <th>1</th>\n",
       "      <td>17</td>\n",
       "      <td>42</td>\n",
       "      <td>10</td>\n",
       "      <td>0</td>\n",
       "      <td>4</td>\n",
       "      <td>37</td>\n",
       "      <td>椿树园</td>\n",
       "      <td>1998</td>\n",
       "      <td>3室1厅</td>\n",
       "      <td>14</td>\n",
       "      <td>88686</td>\n",
       "      <td>130</td>\n",
       "    </tr>\n",
       "    <tr>\n",
       "      <th>2</th>\n",
       "      <td>18</td>\n",
       "      <td>36</td>\n",
       "      <td>9</td>\n",
       "      <td>0</td>\n",
       "      <td>1</td>\n",
       "      <td>24</td>\n",
       "      <td>永乐小区</td>\n",
       "      <td>1989</td>\n",
       "      <td>3室1厅</td>\n",
       "      <td>18</td>\n",
       "      <td>46621</td>\n",
       "      <td>74</td>\n",
       "    </tr>\n",
       "    <tr>\n",
       "      <th>3</th>\n",
       "      <td>15</td>\n",
       "      <td>49</td>\n",
       "      <td>13</td>\n",
       "      <td>0</td>\n",
       "      <td>2</td>\n",
       "      <td>45</td>\n",
       "      <td>主语家园</td>\n",
       "      <td>2007</td>\n",
       "      <td>4室3厅</td>\n",
       "      <td>2</td>\n",
       "      <td>86147</td>\n",
       "      <td>462</td>\n",
       "    </tr>\n",
       "    <tr>\n",
       "      <th>4</th>\n",
       "      <td>6</td>\n",
       "      <td>0</td>\n",
       "      <td>0</td>\n",
       "      <td>0</td>\n",
       "      <td>0</td>\n",
       "      <td>0</td>\n",
       "      <td>天伦锦城</td>\n",
       "      <td>2007</td>\n",
       "      <td>1室1厅</td>\n",
       "      <td>13</td>\n",
       "      <td>42500</td>\n",
       "      <td>64</td>\n",
       "    </tr>\n",
       "  </tbody>\n",
       "</table>\n",
       "</div>"
      ],
      "text/plain": [
       "   公交  写字楼  医院  商场  地铁  学校  小区名字  建造时间    房型  楼层  每平米价格   面积\n",
       "0  18   18  10   0   2  49  远洋山水  2006  2室1厅  26  60937   96\n",
       "1  17   42  10   0   4  37   椿树园  1998  3室1厅  14  88686  130\n",
       "2  18   36   9   0   1  24  永乐小区  1989  3室1厅  18  46621   74\n",
       "3  15   49  13   0   2  45  主语家园  2007  4室3厅   2  86147  462\n",
       "4   6    0   0   0   0   0  天伦锦城  2007  1室1厅  13  42500   64"
      ]
     },
     "execution_count": 2,
     "metadata": {},
     "output_type": "execute_result"
    }
   ],
   "source": [
    "#挑战：使用 Pandas 加载数据集 CSV 文件，并预览前 5 行数据。\n",
    "import pandas as pd\n",
    "df = pd.read_csv(\"challenge-1-beijing.csv\")\n",
    "df.head()"
   ]
  },
  {
   "cell_type": "code",
   "execution_count": 3,
   "metadata": {},
   "outputs": [
    {
     "data": {
      "text/html": [
       "<div>\n",
       "<style scoped>\n",
       "    .dataframe tbody tr th:only-of-type {\n",
       "        vertical-align: middle;\n",
       "    }\n",
       "\n",
       "    .dataframe tbody tr th {\n",
       "        vertical-align: top;\n",
       "    }\n",
       "\n",
       "    .dataframe thead th {\n",
       "        text-align: right;\n",
       "    }\n",
       "</style>\n",
       "<table border=\"1\" class=\"dataframe\">\n",
       "  <thead>\n",
       "    <tr style=\"text-align: right;\">\n",
       "      <th></th>\n",
       "      <th>公交</th>\n",
       "      <th>写字楼</th>\n",
       "      <th>医院</th>\n",
       "      <th>商场</th>\n",
       "      <th>地铁</th>\n",
       "      <th>学校</th>\n",
       "      <th>建造时间</th>\n",
       "      <th>楼层</th>\n",
       "      <th>面积</th>\n",
       "      <th>每平米价格</th>\n",
       "    </tr>\n",
       "  </thead>\n",
       "  <tbody>\n",
       "    <tr>\n",
       "      <th>0</th>\n",
       "      <td>18</td>\n",
       "      <td>18</td>\n",
       "      <td>10</td>\n",
       "      <td>0</td>\n",
       "      <td>2</td>\n",
       "      <td>49</td>\n",
       "      <td>2006</td>\n",
       "      <td>26</td>\n",
       "      <td>96</td>\n",
       "      <td>60937</td>\n",
       "    </tr>\n",
       "    <tr>\n",
       "      <th>1</th>\n",
       "      <td>17</td>\n",
       "      <td>42</td>\n",
       "      <td>10</td>\n",
       "      <td>0</td>\n",
       "      <td>4</td>\n",
       "      <td>37</td>\n",
       "      <td>1998</td>\n",
       "      <td>14</td>\n",
       "      <td>130</td>\n",
       "      <td>88686</td>\n",
       "    </tr>\n",
       "    <tr>\n",
       "      <th>2</th>\n",
       "      <td>18</td>\n",
       "      <td>36</td>\n",
       "      <td>9</td>\n",
       "      <td>0</td>\n",
       "      <td>1</td>\n",
       "      <td>24</td>\n",
       "      <td>1989</td>\n",
       "      <td>18</td>\n",
       "      <td>74</td>\n",
       "      <td>46621</td>\n",
       "    </tr>\n",
       "    <tr>\n",
       "      <th>3</th>\n",
       "      <td>15</td>\n",
       "      <td>49</td>\n",
       "      <td>13</td>\n",
       "      <td>0</td>\n",
       "      <td>2</td>\n",
       "      <td>45</td>\n",
       "      <td>2007</td>\n",
       "      <td>2</td>\n",
       "      <td>462</td>\n",
       "      <td>86147</td>\n",
       "    </tr>\n",
       "    <tr>\n",
       "      <th>4</th>\n",
       "      <td>6</td>\n",
       "      <td>0</td>\n",
       "      <td>0</td>\n",
       "      <td>0</td>\n",
       "      <td>0</td>\n",
       "      <td>0</td>\n",
       "      <td>2007</td>\n",
       "      <td>13</td>\n",
       "      <td>64</td>\n",
       "      <td>42500</td>\n",
       "    </tr>\n",
       "  </tbody>\n",
       "</table>\n",
       "</div>"
      ],
      "text/plain": [
       "   公交  写字楼  医院  商场  地铁  学校  建造时间  楼层   面积  每平米价格\n",
       "0  18   18  10   0   2  49  2006  26   96  60937\n",
       "1  17   42  10   0   4  37  1998  14  130  88686\n",
       "2  18   36   9   0   1  24  1989  18   74  46621\n",
       "3  15   49  13   0   2  45  2007   2  462  86147\n",
       "4   6    0   0   0   0   0  2007  13   64  42500"
      ]
     },
     "execution_count": 3,
     "metadata": {},
     "output_type": "execute_result"
    }
   ],
   "source": [
    "#挑战：对加载完成的数据集进行划分，分割为特征值 features 数据集和目标值 target 数据集\n",
    "features =df[['公交','写字楼','医院','商场','地铁','学校','建造时间','楼层','面积']]\n",
    "target = df['每平米价格']\n",
    "pd.concat([features, target], axis=1).head()"
   ]
  },
  {
   "cell_type": "code",
   "execution_count": 4,
   "metadata": {},
   "outputs": [],
   "source": [
    "#挑战：将 features 和 target两个 DataFrame 各划分为 70% 和 30% 的训练集和测试集。\n",
    "target = df['每平米价格'] # 目标值数据\n",
    "split_num = int(len(features)*0.7) # 得到 70% 位置\n",
    "train_x = features[:split_num] # 训练集特征\n",
    "train_y = target[:split_num] # 训练集目标\n",
    "test_x = features[split_num:] # 测试集特征\n",
    "test_y = target[split_num:] # 测试集目标"
   ]
  },
  {
   "cell_type": "code",
   "execution_count": 5,
   "metadata": {},
   "outputs": [
    {
     "data": {
      "text/plain": [
       "(2100, 2100, 900, 900)"
      ]
     },
     "execution_count": 5,
     "metadata": {},
     "output_type": "execute_result"
    }
   ],
   "source": [
    "len(train_x), len(train_y), len(test_x), len(test_y)"
   ]
  },
  {
   "cell_type": "code",
   "execution_count": 6,
   "metadata": {},
   "outputs": [
    {
     "data": {
      "text/plain": [
       "(array([ 6.59398431e+00,  2.99472651e+02,  3.71604272e+02, -2.13162821e-13,\n",
       "         1.10348032e+03,  4.89315116e+02, -9.52240497e-01,  1.49901912e+00,\n",
       "         4.11275632e+01]), 39758.9151944912)"
      ]
     },
     "execution_count": 6,
     "metadata": {},
     "output_type": "execute_result"
    }
   ],
   "source": [
    "#挑战：使用 scikit-learn 建立并训练线性回归模型。\n",
    "from sklearn.linear_model import LinearRegression\n",
    "\n",
    "model = LinearRegression() # 建立模型\n",
    "model.fit(train_x, train_y) # 训练模型\n",
    "model.coef_, model.intercept_ # 输出训练后的模型参数和截距项"
   ]
  },
  {
   "cell_type": "code",
   "execution_count": 7,
   "metadata": {},
   "outputs": [
    {
     "data": {
      "text/plain": [
       "(array([  6.59398431, 299.47265083, 371.60427218]), 9)"
      ]
     },
     "execution_count": 7,
     "metadata": {},
     "output_type": "execute_result"
    }
   ],
   "source": [
    "model.coef_[:3], len(model.coef_)"
   ]
  },
  {
   "cell_type": "code",
   "execution_count": 8,
   "metadata": {},
   "outputs": [],
   "source": [
    "#挑战：使用 NumPy 实现  MAPEMAPE  计算函数。\n",
    "#MAPE=sum（|y*-y|*100 / y ） /n ，其中n是样本量，y是实际值，y*是预测值\n",
    "import numpy as np\n",
    "def mape(y_true, y_pred):\n",
    "    n = len(y_true)\n",
    "    mape = sum(np.abs(y_true - y_pred)*100/y_true)/n\n",
    "    return mape"
   ]
  },
  {
   "cell_type": "code",
   "execution_count": 9,
   "metadata": {},
   "outputs": [
    {
     "data": {
      "text/plain": [
       "45.50618854676236"
      ]
     },
     "execution_count": 9,
     "metadata": {},
     "output_type": "execute_result"
    }
   ],
   "source": [
    "y_true = test_y.values\n",
    "y_pred = model.predict(test_x)\n",
    "mape(y_true, y_pred)"
   ]
  },
  {
   "cell_type": "code",
   "execution_count": null,
   "metadata": {},
   "outputs": [],
   "source": []
  }
 ],
 "metadata": {
  "kernelspec": {
   "display_name": "Python 3",
   "language": "python",
   "name": "python3"
  },
  "language_info": {
   "codemirror_mode": {
    "name": "ipython",
    "version": 3
   },
   "file_extension": ".py",
   "mimetype": "text/x-python",
   "name": "python",
   "nbconvert_exporter": "python",
   "pygments_lexer": "ipython3",
   "version": "3.6.4"
  }
 },
 "nbformat": 4,
 "nbformat_minor": 2
}
