{
 "cells": [
  {
   "cell_type": "code",
   "execution_count": 1,
   "metadata": {},
   "outputs": [
    {
     "data": {
      "text/plain": [
       "array([[1.        , 0.5       , 0.33333333, 0.25      , 0.2       ,\n",
       "        0.16666667, 0.14285714, 0.125     , 0.11111111, 0.1       ],\n",
       "       [0.5       , 0.33333333, 0.25      , 0.2       , 0.16666667,\n",
       "        0.14285714, 0.125     , 0.11111111, 0.1       , 0.09090909],\n",
       "       [0.33333333, 0.25      , 0.2       , 0.16666667, 0.14285714,\n",
       "        0.125     , 0.11111111, 0.1       , 0.09090909, 0.08333333],\n",
       "       [0.25      , 0.2       , 0.16666667, 0.14285714, 0.125     ,\n",
       "        0.11111111, 0.1       , 0.09090909, 0.08333333, 0.07692308],\n",
       "       [0.2       , 0.16666667, 0.14285714, 0.125     , 0.11111111,\n",
       "        0.1       , 0.09090909, 0.08333333, 0.07692308, 0.07142857],\n",
       "       [0.16666667, 0.14285714, 0.125     , 0.11111111, 0.1       ,\n",
       "        0.09090909, 0.08333333, 0.07692308, 0.07142857, 0.06666667],\n",
       "       [0.14285714, 0.125     , 0.11111111, 0.1       , 0.09090909,\n",
       "        0.08333333, 0.07692308, 0.07142857, 0.06666667, 0.0625    ],\n",
       "       [0.125     , 0.11111111, 0.1       , 0.09090909, 0.08333333,\n",
       "        0.07692308, 0.07142857, 0.06666667, 0.0625    , 0.05882353],\n",
       "       [0.11111111, 0.1       , 0.09090909, 0.08333333, 0.07692308,\n",
       "        0.07142857, 0.06666667, 0.0625    , 0.05882353, 0.05555556],\n",
       "       [0.1       , 0.09090909, 0.08333333, 0.07692308, 0.07142857,\n",
       "        0.06666667, 0.0625    , 0.05882353, 0.05555556, 0.05263158]])"
      ]
     },
     "execution_count": 1,
     "metadata": {},
     "output_type": "execute_result"
    }
   ],
   "source": [
    "\"\"\"生成 10x10 的希尔伯特矩阵\n",
    "\"\"\"\n",
    "from scipy.linalg import hilbert\n",
    "\n",
    "x = hilbert(10)\n",
    "x"
   ]
  },
  {
   "cell_type": "code",
   "execution_count": 2,
   "metadata": {},
   "outputs": [
    {
     "data": {
      "text/plain": [
       "5.3893373277395e-92"
      ]
     },
     "execution_count": 2,
     "metadata": {},
     "output_type": "execute_result"
    }
   ],
   "source": [
    "\"\"\"希尔伯特转置矩阵与原矩阵相乘\n",
    "\"\"\"\n",
    "import numpy as np\n",
    "\n",
    "np.linalg.det(np.matrix(x).T * np.matrix(x))"
   ]
  },
  {
   "cell_type": "code",
   "execution_count": 3,
   "metadata": {},
   "outputs": [
    {
     "data": {
      "text/html": [
       "<div>\n",
       "<style scoped>\n",
       "    .dataframe tbody tr th:only-of-type {\n",
       "        vertical-align: middle;\n",
       "    }\n",
       "\n",
       "    .dataframe tbody tr th {\n",
       "        vertical-align: top;\n",
       "    }\n",
       "\n",
       "    .dataframe thead th {\n",
       "        text-align: right;\n",
       "    }\n",
       "</style>\n",
       "<table border=\"1\" class=\"dataframe\">\n",
       "  <thead>\n",
       "    <tr style=\"text-align: right;\">\n",
       "      <th></th>\n",
       "      <th>x1</th>\n",
       "      <th>x2</th>\n",
       "      <th>x3</th>\n",
       "      <th>x4</th>\n",
       "      <th>x5</th>\n",
       "      <th>x6</th>\n",
       "      <th>x7</th>\n",
       "      <th>x8</th>\n",
       "      <th>x9</th>\n",
       "      <th>x10</th>\n",
       "    </tr>\n",
       "  </thead>\n",
       "  <tbody>\n",
       "    <tr>\n",
       "      <th>x1</th>\n",
       "      <td>1.000000</td>\n",
       "      <td>0.985344</td>\n",
       "      <td>0.965392</td>\n",
       "      <td>0.948277</td>\n",
       "      <td>0.934230</td>\n",
       "      <td>0.922665</td>\n",
       "      <td>0.913025</td>\n",
       "      <td>0.904883</td>\n",
       "      <td>0.897921</td>\n",
       "      <td>0.891902</td>\n",
       "    </tr>\n",
       "    <tr>\n",
       "      <th>x2</th>\n",
       "      <td>0.985344</td>\n",
       "      <td>1.000000</td>\n",
       "      <td>0.995632</td>\n",
       "      <td>0.988183</td>\n",
       "      <td>0.980720</td>\n",
       "      <td>0.973927</td>\n",
       "      <td>0.967905</td>\n",
       "      <td>0.962598</td>\n",
       "      <td>0.957918</td>\n",
       "      <td>0.953774</td>\n",
       "    </tr>\n",
       "    <tr>\n",
       "      <th>x3</th>\n",
       "      <td>0.965392</td>\n",
       "      <td>0.995632</td>\n",
       "      <td>1.000000</td>\n",
       "      <td>0.998160</td>\n",
       "      <td>0.994616</td>\n",
       "      <td>0.990719</td>\n",
       "      <td>0.986928</td>\n",
       "      <td>0.983393</td>\n",
       "      <td>0.980155</td>\n",
       "      <td>0.977207</td>\n",
       "    </tr>\n",
       "    <tr>\n",
       "      <th>x4</th>\n",
       "      <td>0.948277</td>\n",
       "      <td>0.988183</td>\n",
       "      <td>0.998160</td>\n",
       "      <td>1.000000</td>\n",
       "      <td>0.999065</td>\n",
       "      <td>0.997120</td>\n",
       "      <td>0.994845</td>\n",
       "      <td>0.992525</td>\n",
       "      <td>0.990281</td>\n",
       "      <td>0.988163</td>\n",
       "    </tr>\n",
       "    <tr>\n",
       "      <th>x5</th>\n",
       "      <td>0.934230</td>\n",
       "      <td>0.980720</td>\n",
       "      <td>0.994616</td>\n",
       "      <td>0.999065</td>\n",
       "      <td>1.000000</td>\n",
       "      <td>0.999465</td>\n",
       "      <td>0.998294</td>\n",
       "      <td>0.996860</td>\n",
       "      <td>0.995346</td>\n",
       "      <td>0.993839</td>\n",
       "    </tr>\n",
       "    <tr>\n",
       "      <th>x6</th>\n",
       "      <td>0.922665</td>\n",
       "      <td>0.973927</td>\n",
       "      <td>0.990719</td>\n",
       "      <td>0.997120</td>\n",
       "      <td>0.999465</td>\n",
       "      <td>1.000000</td>\n",
       "      <td>0.999669</td>\n",
       "      <td>0.998914</td>\n",
       "      <td>0.997959</td>\n",
       "      <td>0.996922</td>\n",
       "    </tr>\n",
       "    <tr>\n",
       "      <th>x7</th>\n",
       "      <td>0.913025</td>\n",
       "      <td>0.967905</td>\n",
       "      <td>0.986928</td>\n",
       "      <td>0.994845</td>\n",
       "      <td>0.998294</td>\n",
       "      <td>0.999669</td>\n",
       "      <td>1.000000</td>\n",
       "      <td>0.999782</td>\n",
       "      <td>0.999271</td>\n",
       "      <td>0.998608</td>\n",
       "    </tr>\n",
       "    <tr>\n",
       "      <th>x8</th>\n",
       "      <td>0.904883</td>\n",
       "      <td>0.962598</td>\n",
       "      <td>0.983393</td>\n",
       "      <td>0.992525</td>\n",
       "      <td>0.996860</td>\n",
       "      <td>0.998914</td>\n",
       "      <td>0.999782</td>\n",
       "      <td>1.000000</td>\n",
       "      <td>0.999850</td>\n",
       "      <td>0.999491</td>\n",
       "    </tr>\n",
       "    <tr>\n",
       "      <th>x9</th>\n",
       "      <td>0.897921</td>\n",
       "      <td>0.957918</td>\n",
       "      <td>0.980155</td>\n",
       "      <td>0.990281</td>\n",
       "      <td>0.995346</td>\n",
       "      <td>0.997959</td>\n",
       "      <td>0.999271</td>\n",
       "      <td>0.999850</td>\n",
       "      <td>1.000000</td>\n",
       "      <td>0.999893</td>\n",
       "    </tr>\n",
       "    <tr>\n",
       "      <th>x10</th>\n",
       "      <td>0.891902</td>\n",
       "      <td>0.953774</td>\n",
       "      <td>0.977207</td>\n",
       "      <td>0.988163</td>\n",
       "      <td>0.993839</td>\n",
       "      <td>0.996922</td>\n",
       "      <td>0.998608</td>\n",
       "      <td>0.999491</td>\n",
       "      <td>0.999893</td>\n",
       "      <td>1.000000</td>\n",
       "    </tr>\n",
       "  </tbody>\n",
       "</table>\n",
       "</div>"
      ],
      "text/plain": [
       "           x1        x2        x3        x4        x5        x6        x7  \\\n",
       "x1   1.000000  0.985344  0.965392  0.948277  0.934230  0.922665  0.913025   \n",
       "x2   0.985344  1.000000  0.995632  0.988183  0.980720  0.973927  0.967905   \n",
       "x3   0.965392  0.995632  1.000000  0.998160  0.994616  0.990719  0.986928   \n",
       "x4   0.948277  0.988183  0.998160  1.000000  0.999065  0.997120  0.994845   \n",
       "x5   0.934230  0.980720  0.994616  0.999065  1.000000  0.999465  0.998294   \n",
       "x6   0.922665  0.973927  0.990719  0.997120  0.999465  1.000000  0.999669   \n",
       "x7   0.913025  0.967905  0.986928  0.994845  0.998294  0.999669  1.000000   \n",
       "x8   0.904883  0.962598  0.983393  0.992525  0.996860  0.998914  0.999782   \n",
       "x9   0.897921  0.957918  0.980155  0.990281  0.995346  0.997959  0.999271   \n",
       "x10  0.891902  0.953774  0.977207  0.988163  0.993839  0.996922  0.998608   \n",
       "\n",
       "           x8        x9       x10  \n",
       "x1   0.904883  0.897921  0.891902  \n",
       "x2   0.962598  0.957918  0.953774  \n",
       "x3   0.983393  0.980155  0.977207  \n",
       "x4   0.992525  0.990281  0.988163  \n",
       "x5   0.996860  0.995346  0.993839  \n",
       "x6   0.998914  0.997959  0.996922  \n",
       "x7   0.999782  0.999271  0.998608  \n",
       "x8   1.000000  0.999850  0.999491  \n",
       "x9   0.999850  1.000000  0.999893  \n",
       "x10  0.999491  0.999893  1.000000  "
      ]
     },
     "execution_count": 3,
     "metadata": {},
     "output_type": "execute_result"
    }
   ],
   "source": [
    "\"\"\"计算希尔伯特矩阵每列数据的相关性系数\n",
    "\"\"\"\n",
    "import pandas as pd\n",
    "\n",
    "pd.DataFrame(x, columns=['x%d'%i for i in range(1,11)]).corr()"
   ]
  },
  {
   "cell_type": "code",
   "execution_count": 4,
   "metadata": {},
   "outputs": [
    {
     "name": "stdout",
     "output_type": "stream",
     "text": [
      "实际参数 w:  [3 7 6 9 2 3 5 6 3 7]\n",
      "实际函数值 y:  [14.14761905 10.1232684   8.12233045  6.8529637   5.95634643  5.28188478\n",
      "  4.75274309  4.32480306  3.97061256  3.67205737]\n"
     ]
    }
   ],
   "source": [
    "\"\"\"定义线性分布函数及实际参数\n",
    "\"\"\"\n",
    "from scipy.optimize import leastsq\n",
    "import numpy as np\n",
    "from scipy.linalg import hilbert\n",
    "\n",
    "x = hilbert(10) # 生成 10x10 的希尔伯特矩阵\n",
    "np.random.seed(10) # 随机数种子能保证每次生成的随机数一致\n",
    "w = np.random.randint(2,10,10) # 随机生成 w 系数\n",
    "y_temp = np.matrix(x) * np.matrix(w).T # 计算 y 值\n",
    "y = np.array(y_temp.T)[0] #将 y 值转换成 1 维行向量\n",
    "\n",
    "print(\"实际参数 w: \", w)\n",
    "print(\"实际函数值 y: \", y)"
   ]
  },
  {
   "cell_type": "code",
   "execution_count": 5,
   "metadata": {},
   "outputs": [
    {
     "name": "stdout",
     "output_type": "stream",
     "text": [
      "拟合参数 w:  [  2.99524987   7.19531001   4.22271275  14.16900424   1.01650679\n",
      " -13.15175922  17.1875033   34.27909841 -41.03180537  24.12395282]\n"
     ]
    }
   ],
   "source": [
    "\"\"\"使用最小二乘法线性拟合\n",
    "\"\"\"\n",
    "func=lambda p,x: np.dot(x, p) # 函数公式\n",
    "err_func = lambda p, x, y: func(p, x)-y # 残差函数\n",
    "p_init=np.random.randint(1,2,10) # 全部参数初始化为 1\n",
    "\n",
    "parameters = leastsq(err_func, p_init, args=(x, y)) # 最小二乘法求解\n",
    "print(\"拟合参数 w: \",parameters[0])"
   ]
  },
  {
   "cell_type": "code",
   "execution_count": 6,
   "metadata": {},
   "outputs": [
    {
     "data": {
      "text/plain": [
       "Ridge(alpha=1.0, copy_X=True, fit_intercept=False, max_iter=None,\n",
       "   normalize=False, random_state=None, solver='auto', tol=0.001)"
      ]
     },
     "execution_count": 6,
     "metadata": {},
     "output_type": "execute_result"
    }
   ],
   "source": [
    "\"\"\"使用岭回归拟合\n",
    "\"\"\"\n",
    "from sklearn.linear_model import Ridge\n",
    "\n",
    "ridge_model = Ridge(fit_intercept=False) # 参数代表不增加截距项\n",
    "ridge_model.fit(x, y)"
   ]
  },
  {
   "cell_type": "code",
   "execution_count": 7,
   "metadata": {},
   "outputs": [
    {
     "data": {
      "text/plain": [
       "array([6.3497497 , 4.32792068, 3.40228975, 2.83692059, 2.44632895,\n",
       "       2.15683095, 1.93213214, 1.75189668, 1.60369747, 1.47944808])"
      ]
     },
     "execution_count": 7,
     "metadata": {},
     "output_type": "execute_result"
    }
   ],
   "source": [
    "ridge_model.coef_ # 打印模型参数"
   ]
  },
  {
   "cell_type": "code",
   "execution_count": 8,
   "metadata": {},
   "outputs": [],
   "source": [
    "\"\"\"不同 alpha 参数拟合\n",
    "\"\"\"\n",
    "alphas = np.linspace(-3,2,20)\n",
    "\n",
    "coefs = []\n",
    "for a in alphas:\n",
    "    ridge = Ridge(alpha=a, fit_intercept=False)\n",
    "    ridge.fit(x, y)\n",
    "    coefs.append(ridge.coef_)"
   ]
  },
  {
   "cell_type": "code",
   "execution_count": 9,
   "metadata": {},
   "outputs": [
    {
     "data": {
      "text/plain": [
       "Text(0.5,1,'Ridge Regression')"
      ]
     },
     "execution_count": 9,
     "metadata": {},
     "output_type": "execute_result"
    },
    {
     "data": {
      "image/png": "[encoded data removed]",
      "text/plain": [
       "<Figure size 432x288 with 1 Axes>"
      ]
     },
     "metadata": {},
     "output_type": "display_data"
    }
   ],
   "source": [
    "\"\"\"绘制不同 alpha 参数结果\n",
    "\"\"\"\n",
    "from matplotlib import pyplot as plt\n",
    "%matplotlib inline\n",
    "\n",
    "plt.plot(alphas, coefs) # 绘制不同 alpha 参数下的 w 拟合值\n",
    "plt.scatter(np.linspace(0,0,10), parameters[0]) # 普通最小二乘法拟合的 w 值放入图中\n",
    "plt.xlabel('alpha')\n",
    "plt.ylabel('w')\n",
    "plt.title('Ridge Regression')"
   ]
  },
  {
   "cell_type": "code",
   "execution_count": 10,
   "metadata": {},
   "outputs": [
    {
     "data": {
      "text/plain": [
       "Text(0.5,1,'Lasso Regression')"
      ]
     },
     "execution_count": 10,
     "metadata": {},
     "output_type": "execute_result"
    },
    {
     "data": {
      "image/png": "[encoded data removed]",
      "text/plain": [
       "<Figure size 432x288 with 1 Axes>"
      ]
     },
     "metadata": {},
     "output_type": "display_data"
    }
   ],
   "source": [
    "\"\"\"使用 LASSO 回归拟合并绘图\n",
    "\"\"\"\n",
    "from sklearn.linear_model import Lasso\n",
    "\n",
    "alphas = np.linspace(-2,2,10)\n",
    "lasso_coefs = []\n",
    "\n",
    "for a in alphas:\n",
    "    lasso = Lasso(alpha=a, fit_intercept=False)\n",
    "    lasso.fit(x, y)\n",
    "    lasso_coefs.append(lasso.coef_)\n",
    "    \n",
    "plt.plot(alphas, lasso_coefs) # 绘制不同 alpha 参数下的 w 拟合值\n",
    "plt.scatter(np.linspace(0,0,10), parameters[0]) # 普通最小二乘法拟合的 w 值放入图中\n",
    "plt.xlabel('alpha')\n",
    "plt.ylabel('w')\n",
    "plt.title('Lasso Regression')"
   ]
  },
  {
   "cell_type": "code",
   "execution_count": null,
   "metadata": {},
   "outputs": [],
   "source": []
  }
 ],
 "metadata": {
  "kernelspec": {
   "display_name": "Python 3",
   "language": "python",
   "name": "python3"
  },
  "language_info": {
   "codemirror_mode": {
    "name": "ipython",
    "version": 3
   },
   "file_extension": ".py",
   "mimetype": "text/x-python",
   "name": "python",
   "nbconvert_exporter": "python",
   "pygments_lexer": "ipython3",
   "version": "3.6.5"
  }
 },
 "nbformat": 4,
 "nbformat_minor": 2
}
